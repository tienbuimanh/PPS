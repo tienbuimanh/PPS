{
 "cells": [
  {
   "cell_type": "markdown",
   "metadata": {},
   "source": [
    "Công thức ABs:\n",
    "$$\n",
    "y_{k+1} = y_{k} + h* \\begin{pmatrix}\n",
    "b_0 & b_1 & \\dots & b_{s-1}\n",
    "\\end{pmatrix} \\begin{pmatrix}\n",
    "f_{k}\\\\\n",
    "f_{k-1}\\\\\n",
    "\\vdots\\\\\n",
    "f_{k-s+1}\n",
    "\\end{pmatrix}\n",
    "$$\n",
    "Công thức xác định hệ số $B_{ABs} = \\begin{pmatrix}\n",
    "b_0 & b_1 & \\dots & b_{s-1}\n",
    "\\end{pmatrix}^{\\top}$ \n",
    "$$\n",
    "B_{ABs}^{\\top} = A^{\\top}DP \n",
    "$$\n",
    "trong đó\n",
    "$$\n",
    "A = V \\begin{pmatrix}\n",
    "1\\\\\n",
    "1\\\\\n",
    "\\vdots\\\\\n",
    "1\\\\\n",
    "1\n",
    "\\end{pmatrix}, \\quad V[i, j] = \\dfrac{U[i, j]}{i-j+1} (j \\leq i), \\quad V = \\begin{pmatrix}\n",
    "1 & & & & \\\\\n",
    "1 & 0 & & & \\\\\n",
    "1 & 1 & 0 & & \\\\\n",
    "1 & 3 & 2 & 0 & \\\\\n",
    "\\vdots & \\vdots & \\vdots & \\vdots & \\ddots\n",
    "\\end{pmatrix} \\text{(Ông này tìm bằng Horner)}\n",
    "$$\n",
    "\n",
    "$$\n",
    "D = \\begin{pmatrix}\n",
    "\\dfrac{1}{0!}& & & \\\\\n",
    "& \\dfrac{1}{1!} & & \\\\\n",
    "& & \\dfrac{1}{2!} & \\\\\n",
    "& & & \\ddots \n",
    "\\end{pmatrix}, \\quad P = \\begin{pmatrix}\n",
    "1 & & & & \\\\\n",
    "1 & -1 & & & \\\\\n",
    "1 & -2 & 1 & & \\\\\n",
    "1 & -3 & 3 & -1 & \\\\\n",
    "\\vdots & \\vdots & \\vdots & \\vdots & \\ddots\n",
    "\\end{pmatrix} \\text{(Tam giác Pascal)}\n",
    "$$\n",
    "\n",
    "\n",
    "Công thức AMs:\n",
    "$$\n",
    "y_{k+1} = y_{k} +  h* \\begin{pmatrix}\n",
    "b_0 & b_1 & \\dots & b_{s}\n",
    "\\end{pmatrix} \\begin{pmatrix}\n",
    "f_{k+1}\\\\\n",
    "f_{k}\\\\\n",
    "\\vdots\\\\\n",
    "f_{k-s+1}\n",
    "\\end{pmatrix}\n",
    "$$\n",
    "Công thức xác định hệ số $B_{AMs} = \\begin{pmatrix}\n",
    "b_0 & b_1 & \\dots & b_{s}\n",
    "\\end{pmatrix}^{\\top}$ \n",
    "$$\n",
    "B_{AMs}^{\\top} = A^{\\top}DP \n",
    "$$\n",
    "\n",
    "trong đó \n",
    "$$\n",
    "A = \\begin{pmatrix}\n",
    "1 & & & & \\\\\n",
    "& -1 & & & \\\\\n",
    "& & 1 & & \\\\\n",
    "& & & -1 & \\\\\n",
    "& & & & \\ddots\n",
    "\\end{pmatrix}\n",
    "V \\begin{pmatrix}\n",
    "1\\\\\n",
    "-1\\\\\n",
    "1\\\\\n",
    "-1\\\\\n",
    "\\vdots\n",
    "\\end{pmatrix}\n",
    "$$\n",
    "V, D, P xác định tương tự như ABs, chỉ thay kích thước ma trận và vector từ s thành s+1\n",
    "\n",
    "\n",
    "Công thức ABs-AMs:\n",
    "\\begin{align*}\n",
    "& z_{k+1} = y_{k} + h * B_{ABs}^{\\top} \\begin{pmatrix}\n",
    "f_{k}\\\\\n",
    "f_{k-1}\\\\\n",
    "f_{k-2}\\\\\n",
    "\\ddots\\\\\n",
    "f_{k-s+1}\n",
    "\\end{pmatrix}\\\\\n",
    "& y_{k+1} = y_{k} + h * B_{AMs}^{\\top} \\begin{pmatrix}\n",
    "f(t_{k+1}, z_{k+1})\\\\\n",
    "f_{k}\\\\\n",
    "f_{k-1}\\\\\n",
    "\\vdots\\\\\n",
    "f_{k-s+1}\n",
    "\\end{pmatrix}\n",
    "\\end{align*}\n"
   ]
  },
  {
   "cell_type": "code",
   "execution_count": 31,
   "metadata": {},
   "outputs": [],
   "source": [
    "import numpy as np\n",
    "import math\n",
    "import matplotlib.pyplot as plt\n",
    "from fractions import Fraction\n",
    "from math import gcd\n",
    "\n"
   ]
  },
  {
   "cell_type": "markdown",
   "metadata": {},
   "source": [
    "Viết kết quả dưới dạng phân số cho đẹp"
   ]
  },
  {
   "cell_type": "code",
   "execution_count": 32,
   "metadata": {},
   "outputs": [],
   "source": [
    "def print_matrix_as_fractions(matrix):\n",
    "    col_widths = [max(len(str(matrix[row_idx, col_idx])) for row_idx in range(len(matrix))) for col_idx in range(len(matrix[0]))]\n",
    "    \n",
    "    for row in matrix:\n",
    "        row_str = ''\n",
    "        for col_idx, element in enumerate(row):\n",
    "            element_str = str(element)\n",
    "            if isinstance(element, Fraction):\n",
    "                if element.denominator == 1:\n",
    "                    element_str = str(element.numerator)\n",
    "            row_str += element_str.ljust(col_widths[col_idx]) + ' '\n",
    "        print(row_str)\n",
    "\n",
    "def find_least_common_multiple(matrix):\n",
    "    # Tìm tất cả các mẫu số trong ma trận\n",
    "    all_denominators = []\n",
    "    for row in matrix:\n",
    "        all_denominators.extend(element.denominator for element in row if isinstance(element, Fraction))\n",
    "\n",
    "    # Tìm bội số chung nhỏ nhất của tất cả các mẫu số\n",
    "    lcm = all_denominators[0]\n",
    "    for denominator in all_denominators[1:]:\n",
    "        lcm = lcm * denominator // gcd(lcm, denominator)\n",
    "\n",
    "    return lcm\n",
    "\n",
    "def print_matrix_with_common_denominator(matrix):\n",
    "    # Tìm bội số chung nhỏ nhất của tất cả các mẫu số trong ma trận\n",
    "    lcm = find_least_common_multiple(matrix)\n",
    "    col_widths = [max(len(str(matrix[row_idx, col_idx])) for row_idx in range(len(matrix))) for col_idx in range(len(matrix[0]))]\n",
    "    matrix = lcm * matrix\n",
    "    print('1/',lcm,'* [', end = '')\n",
    "    for row in matrix:\n",
    "        row_str = ''\n",
    "        for col_idx, element in enumerate(row):\n",
    "            element_str = str(element)\n",
    "            if isinstance(element, Fraction):\n",
    "                if element.denominator == 1:\n",
    "                    element_str = str(element.numerator)\n",
    "            row_str += element_str.ljust(col_widths[col_idx]) + ' '\n",
    "        print(row_str, end=']')\n",
    "\n",
    "    "
   ]
  },
  {
   "cell_type": "markdown",
   "metadata": {},
   "source": [
    "Sử dụng lược đồ Horner để nhân P(x) với (x-c)"
   ]
  },
  {
   "cell_type": "code",
   "execution_count": 33,
   "metadata": {},
   "outputs": [],
   "source": [
    "def Horner_Nhan(a, c):\n",
    "    ans = np.zeros(len(a)+1)\n",
    "    P_n = np.zeros(len(a)+1)\n",
    "    P_n[:-1] = a\n",
    "    ans[0] = P_n[0]\n",
    "    for i in range(1, len(ans)):\n",
    "        ans[i] = P_n[i] - c*P_n[i-1]\n",
    "    return ans"
   ]
  },
  {
   "cell_type": "markdown",
   "metadata": {},
   "source": [
    "Gói con tính ma trận D"
   ]
  },
  {
   "cell_type": "code",
   "execution_count": 34,
   "metadata": {},
   "outputs": [],
   "source": [
    "def MaTranGiaiThua(s):\n",
    "    ans = np.eye(s)\n",
    "    ans = np.vectorize(Fraction)(ans)\n",
    "    for i in range(1, s):\n",
    "        ans[i, i] = ans[i-1, i-1]/i \n",
    "    return ans"
   ]
  },
  {
   "cell_type": "markdown",
   "metadata": {},
   "source": [
    "Gói con tính ma trận U"
   ]
  },
  {
   "cell_type": "code",
   "execution_count": 35,
   "metadata": {},
   "outputs": [],
   "source": [
    "def MaTranHeSo(s):\n",
    "    ans = np.eye(s)\n",
    "    for i in range(1,s):\n",
    "        ans[i, 0:i+1] = Horner_Nhan(ans[i-1, 0:i], -(i-1))\n",
    "    return ans   "
   ]
  },
  {
   "cell_type": "markdown",
   "metadata": {},
   "source": [
    "Gói con tính ma trận V"
   ]
  },
  {
   "cell_type": "code",
   "execution_count": 36,
   "metadata": {},
   "outputs": [],
   "source": [
    "def MaTranHeSoNguyenHam(s):\n",
    "    U = MaTranHeSo(s)\n",
    "\n",
    "    # Chuyển đổi ma trận U sang kiểu Fraction\n",
    "    U = np.vectorize(Fraction)(U)\n",
    "\n",
    "    # Tạo ma trận đơn vị với các phần tử là Fraction\n",
    "    ans = np.eye(s, dtype=object)\n",
    "    ans = np.vectorize(Fraction)(ans)\n",
    "    #ans = np.eye(s)\n",
    "    for i in range(s):\n",
    "        for j in range(i+1):\n",
    "            ans[i, j] = U[i, j]/Fraction(i-j+1)\n",
    "    return ans"
   ]
  },
  {
   "cell_type": "markdown",
   "metadata": {},
   "source": [
    "Gói con tính ma trận P"
   ]
  },
  {
   "cell_type": "code",
   "execution_count": 37,
   "metadata": {},
   "outputs": [],
   "source": [
    "def MaTranHeSoSaiPhan(s):\n",
    "    ans = np.eye(s)\n",
    "    ans[:, 0] = 1\n",
    "    for i in range(1, s):\n",
    "        for j in range(1, i+1):\n",
    "            ans[i, j] = ans[i-1, j] - ans[i-1, j-1]\n",
    "    return ans"
   ]
  },
  {
   "cell_type": "markdown",
   "metadata": {},
   "source": [
    "Gói con tính bộ hệ số của ABs"
   ]
  },
  {
   "cell_type": "code",
   "execution_count": 38,
   "metadata": {},
   "outputs": [],
   "source": [
    "def HeSoAB(s):\n",
    "    \n",
    "    V = MaTranHeSoNguyenHam(s)\n",
    "    D = MaTranGiaiThua(s)\n",
    "    P = MaTranHeSoSaiPhan(s)\n",
    "    \n",
    "    # Chuyển các ma trận sang dạng phân số\n",
    "    V = np.array(V, dtype=object)\n",
    "    D = np.array(D, dtype=object)\n",
    "    P = np.array(P, dtype=object)\n",
    "    \n",
    "    V = np.vectorize(Fraction)(V)\n",
    "    D = np.vectorize(Fraction)(D)\n",
    "    P = np.vectorize(Fraction)(P)\n",
    "    \n",
    "    M = np.ones((s, 1), dtype=object)\n",
    "    M = np.vectorize(Fraction)(M)\n",
    "    \n",
    "    A = np.dot(V, M)\n",
    "    AtD = np.dot(np.transpose(A), D)\n",
    "    ans = np.dot(AtD, P)\n",
    "    \n",
    "    return ans\n",
    "\n",
    "\n",
    "    "
   ]
  },
  {
   "cell_type": "code",
   "execution_count": 39,
   "metadata": {},
   "outputs": [
    {
     "name": "stdout",
     "output_type": "stream",
     "text": [
      "1/ 720 * [1901     -2774     2616   -1274    251     ]"
     ]
    }
   ],
   "source": [
    "print_matrix_with_common_denominator(HeSoAB(5))"
   ]
  },
  {
   "cell_type": "markdown",
   "metadata": {},
   "source": [
    "Gói con tính hệ số của AMs"
   ]
  },
  {
   "cell_type": "code",
   "execution_count": 40,
   "metadata": {},
   "outputs": [],
   "source": [
    "def HeSoAM(s):\n",
    "    V = MaTranHeSoNguyenHam(s+1)\n",
    "    D = MaTranGiaiThua(s+1)\n",
    "    P = MaTranHeSoSaiPhan(s+1)\n",
    "    C = np.eye(s+1)\n",
    "\n",
    "    # Chuyển các ma trận sang dạng phân số\n",
    "    V = np.array(V, dtype=object)\n",
    "    D = np.array(D, dtype=object)\n",
    "    P = np.array(P, dtype=object)\n",
    "    C = np.array(C, dtype=object)\n",
    "    \n",
    "    V = np.vectorize(Fraction)(V)\n",
    "    D = np.vectorize(Fraction)(D)\n",
    "    P = np.vectorize(Fraction)(P)\n",
    "    C = np.vectorize(Fraction)(C)\n",
    "    \n",
    "    M = np.ones((s+1, 1), dtype=object)\n",
    "    M = np.vectorize(Fraction)(M)\n",
    "    for i in range(1, s+1):\n",
    "        M[i, 0] = M[i-1, 0]*(-1)\n",
    "        C[i, i] = C[i-1, i-1]*(-1)\n",
    "    \n",
    "    A = np.dot(C,np.dot(V, M))\n",
    "    AtD = np.dot(np.transpose(A), D)\n",
    "    ans = np.dot(AtD, P)\n",
    "    \n",
    "    return ans"
   ]
  },
  {
   "cell_type": "code",
   "execution_count": 41,
   "metadata": {},
   "outputs": [
    {
     "name": "stdout",
     "output_type": "stream",
     "text": [
      "1/ 1440 * [475    1427      -798     482     -173      27    ]"
     ]
    }
   ],
   "source": [
    "print_matrix_with_common_denominator(HeSoAM(5))\n"
   ]
  },
  {
   "cell_type": "markdown",
   "metadata": {},
   "source": [
    "Áp dụng ABs và ABs-AMs để giải phương trình vi phân\n",
    "\n",
    "Input: điều kiện ban đầu, thời điểm ban đầu, bước lưới, số bước nhảy, hàm số f(y, t)"
   ]
  },
  {
   "cell_type": "code",
   "execution_count": 42,
   "metadata": {},
   "outputs": [],
   "source": [
    "t_0 = 0\n",
    "dt = 0.01 # Bước lưới h\n",
    "N = 500 # Số bước thời gian cần tính\n",
    "y_0 = np.array([54, 25]) # Điều kiện ban đầu \n",
    "\n",
    "R = 30\n",
    "L = 2\n",
    "C = 0.016\n",
    "def F(y, t): # Hàm f(y, x)\n",
    "    ans = np.copy(y)\n",
    "    ans[0] = 1.2*y[0]*(1-y[0]/45) - 0.7*y[0]**2*y[1]/(1+y[0]**2)\n",
    "    ans[1] = -0.4*y[1] + 0.35*y[0]**2*y[1]/(1+y[0]**2)\n",
    "    return ans\n"
   ]
  },
  {
   "cell_type": "markdown",
   "metadata": {},
   "source": [
    "Số lượng xấp xỉ đầu và cuối muốn in ra"
   ]
  },
  {
   "cell_type": "code",
   "execution_count": 43,
   "metadata": {},
   "outputs": [],
   "source": [
    "k = 3"
   ]
  },
  {
   "cell_type": "code",
   "execution_count": 44,
   "metadata": {},
   "outputs": [],
   "source": [
    "def AB(s, y, t):\n",
    "    vector_y = np.array([y])\n",
    "    vector_t = np.array([t])\n",
    "    global S\n",
    "    S = s\n",
    "    n = 0\n",
    "    while n < s-1:\n",
    "        vector_y = np.vstack((vector_y, vector_y[-1] + dt*F(vector_y[-1], vector_t[-1])))\n",
    "        vector_t = np.append(vector_t, t+dt)\n",
    "        n += 1\n",
    "        t += dt\n",
    "    while n < N:\n",
    "        B = HeSoAB(s)\n",
    "        B_reversed = [row[::-1] for row in B]\n",
    "        y_temp = vector_y[n+1-s:]\n",
    "        t_temp = vector_t[n+1-s:]\n",
    "        F_temp = np.ones((s, len(y_0)))\n",
    "        for i in range(s):\n",
    "            F_temp[i] = F(y_temp[i], t_temp[i])\n",
    "        vector_y = np.vstack((vector_y, vector_y[-1] + dt*np.dot(B_reversed, F_temp)))\n",
    "        vector_t = np.append(vector_t, t+dt)\n",
    "        n += 1\n",
    "        t += dt\n",
    "\n",
    "    return vector_y, vector_t\n",
    "        "
   ]
  },
  {
   "cell_type": "code",
   "execution_count": 45,
   "metadata": {},
   "outputs": [],
   "source": [
    "ans_y, ans_t = AB(2, y_0, t_0)"
   ]
  },
  {
   "cell_type": "markdown",
   "metadata": {},
   "source": [
    "Vẽ đồ thị kết quả cho ABs"
   ]
  },
  {
   "cell_type": "code",
   "execution_count": 46,
   "metadata": {},
   "outputs": [
    {
     "name": "stdout",
     "output_type": "stream",
     "text": [
      "Sử dụng Euler hiện tìm được các xấp xỉ đầu\n",
      "t =  0.01 :\t Y[ 1 ]^T =  [53.7 24.99]\n",
      "\n",
      "\n",
      "Nghiệm của bài toán:\n",
      "t =  0.03 :\t Y[ 3 ]^T =  [53.1111446768921 24.964960605575012]\n",
      "t =  0.04 :\t Y[ 4 ]^T =  [52.82401260383764 24.952450128109184]\n",
      "t =  0.05 :\t Y[ 5 ]^T =  [52.54157279616124 24.939945582872312]\n",
      "...\n",
      "t =  4.98 :\t Y[ 498 ]^T =  [25.52968622819128 19.454636723295437]\n",
      "t =  4.99 :\t Y[ 499 ]^T =  [25.52630185298028 19.44480756368035]\n",
      "t =  5.0 :\t Y[ 500 ]^T =  [25.522991616183972 19.434983342804692]\n"
     ]
    },
    {
     "data": {
      "image/png": "[encoded data removed]",
      "text/plain": [
       "<Figure size 640x480 with 1 Axes>"
      ]
     },
     "metadata": {},
     "output_type": "display_data"
    }
   ],
   "source": [
    "print(\"Sử dụng Euler hiện tìm được các xấp xỉ đầu\")\n",
    "for i in range(1,S):\n",
    "    print(\"t = \", round(ans_t[i], 3), \":\\t Y[\", i, \"]^T = \" , ans_y[i])\n",
    "\n",
    "\n",
    "print(\"\\n\\nNghiệm của bài toán:\")\n",
    "\n",
    "for i in range(k):\n",
    "    print(\"t = \", round(ans_t[i+1+S], 3), \":\\t Y[\", i+1+S, \"]^T = \" , ans_y[i+1+S])\n",
    "\n",
    "print(\"...\")\n",
    "\n",
    "for i in range(k):\n",
    "    print(\"t = \", round(ans_t[-k+i], 3), \":\\t Y[\", N-k+i+1, \"]^T = \", ans_y[-k+i])\n",
    "\n",
    "# Vẽ đồ thị\n",
    "ans_y = np.transpose(ans_y)\n",
    "\n",
    "# Muốn vẽ gì thì sửa ở đây\n",
    "plt.plot(ans_t, ans_y[0], label = 'u') # Vẽ y_0 theo t\n",
    "#plt.plot(ans_t, ans_y[1], label = 'v')\n",
    "#plt.plot(ans_t, ans_y[0], label = 'siuuuuu') # Vẽ y_1 theo t\n",
    "\n",
    "plt.xlabel('X')\n",
    "plt.ylabel('Y')\n",
    "plt.legend()\n",
    "plt.title(f'AB{S}_😗~Siuuuuu ')\n",
    "plt.show()"
   ]
  },
  {
   "cell_type": "code",
   "execution_count": 47,
   "metadata": {},
   "outputs": [],
   "source": [
    "def AB_AM(s, y, t):\n",
    "    global S\n",
    "    S = s\n",
    "    vector_y = np.array([y])\n",
    "    vector_t = np.array([t])\n",
    "    n = 0\n",
    "    while n < s-1:\n",
    "        vector_y = np.vstack((vector_y, vector_y[-1] + dt*F(vector_y[-1], vector_t[-1])))\n",
    "        vector_t = np.append(vector_t, t+dt)\n",
    "        n += 1\n",
    "        t += dt\n",
    "    B1 = HeSoAB(s)\n",
    "    B2 = HeSoAM(s)\n",
    "    B1_reversed = [row[::-1] for row in B1]\n",
    "    B2_reversed = [row[::-1] for row in B2]\n",
    "    while n < N:\n",
    "        y_temp = vector_y[n+1-s:]\n",
    "        t_temp = vector_t[n+1-s:]\n",
    "        F_temp = np.ones((s, len(y_0)))\n",
    "        for i in range(s):\n",
    "            F_temp[i] = F(y_temp[i], t_temp[i])\n",
    "        vector_y = np.vstack((vector_y, vector_y[-1] + dt*np.dot(B1_reversed, F_temp)))\n",
    "        vector_t = np.append(vector_t, t+dt)\n",
    "        F_temp = np.vstack((F_temp, F(vector_y[-1], vector_t[-1])))\n",
    "        vector_y[-1] = vector_y[-2] + dt*np.dot(B2_reversed, F_temp)\n",
    "        n += 1\n",
    "        t += dt\n",
    "\n",
    "    return vector_y, vector_t\n",
    "    \n",
    "\n"
   ]
  },
  {
   "cell_type": "code",
   "execution_count": 48,
   "metadata": {},
   "outputs": [],
   "source": [
    "ans_y, ans_t = AB_AM(4, y_0, t_0) "
   ]
  },
  {
   "cell_type": "markdown",
   "metadata": {},
   "source": [
    "Vẽ đồ thị kết quả cho ABs-AMs"
   ]
  },
  {
   "cell_type": "code",
   "execution_count": 49,
   "metadata": {},
   "outputs": [
    {
     "name": "stdout",
     "output_type": "stream",
     "text": [
      "Sử dụng Euler hiện tìm được các xấp xỉ đầu\n",
      "t =  0.01 :\t Y[ 1 ]^T =  [53.7 24.99]\n",
      "t =  0.02 :\t Y[ 2 ]^T =  [53.40054664083143 24.977474679584287]\n",
      "t =  0.03 :\t Y[ 3 ]^T =  [53.10614060122647 24.964955296308133]\n",
      "\n",
      "\n",
      "Nghiệm của bài toán:\n",
      "t =  0.05 :\t Y[ 5 ]^T =  [52.53662822696928 24.939940231704536]\n",
      "t =  0.06 :\t Y[ 6 ]^T =  [52.258795082181095 24.927441611797242]\n",
      "t =  0.07 :\t Y[ 7 ]^T =  [51.985423211356135 24.914948919069786]\n",
      "...\n",
      "t =  4.98 :\t Y[ 498 ]^T =  [25.528943465783247 19.454628955591133]\n",
      "t =  4.99 :\t Y[ 499 ]^T =  [25.525560287815814 19.444799793066192]\n",
      "t =  5.0 :\t Y[ 500 ]^T =  [25.52225124529257 19.43497556929236]\n"
     ]
    },
    {
     "data": {
      "image/png": "[encoded data removed]",
      "text/plain": [
       "<Figure size 640x480 with 1 Axes>"
      ]
     },
     "metadata": {},
     "output_type": "display_data"
    }
   ],
   "source": [
    "print(\"Sử dụng Euler hiện tìm được các xấp xỉ đầu\")\n",
    "for i in range(1,S):\n",
    "    print(\"t = \", round(ans_t[i], 3), \":\\t Y[\", i, \"]^T = \" , ans_y[i])\n",
    "\n",
    "\n",
    "print(\"\\n\\nNghiệm của bài toán:\")\n",
    "\n",
    "for i in range(k):\n",
    "    print(\"t = \", round(ans_t[i+1+S], 3), \":\\t Y[\", i+1+S, \"]^T = \" , ans_y[i+1+S])\n",
    "\n",
    "print(\"...\")\n",
    "\n",
    "for i in range(k):\n",
    "    print(\"t = \", round(ans_t[-k+i], 3), \":\\t Y[\", N-k+i+1, \"]^T = \", ans_y[-k+i])\n",
    "\n",
    "# Vẽ đồ thị\n",
    "ans_y = np.transpose(ans_y)\n",
    "\n",
    "# Muốn vẽ gì thì sửa ở đây\n",
    "plt.plot(ans_t, ans_y[0], label = 'x') # Vẽ y_0 theo t\n",
    "plt.plot(ans_t, ans_y[1], label = 'y')\n",
    "#plt.plot(ans_t, ans_y[0], label = 'siuuuuu') # Vẽ y_1 theo t\n",
    "\n",
    "plt.xlabel('X')\n",
    "plt.ylabel('Y')\n",
    "plt.legend()\n",
    "plt.title(f'AB{S}-AM{S}_😗~Siuuuuu ')\n",
    "plt.show()"
   ]
  },
  {
   "cell_type": "code",
   "execution_count": 50,
   "metadata": {},
   "outputs": [],
   "source": [
    "#RK4\n",
    "Original = np.array([[0, 0, 0, 0, 0],\n",
    "                     [1/2, 1/2, 0, 0, 0],\n",
    "                     [1/2, 0, 1/2, 0, 0],\n",
    "                     [1, 0, 0, 1, 0],\n",
    "                     [1, 1/6, 1/3, 1/3, 1/6]])\n",
    "Rule_3_8 = np.array([[0, 0, 0, 0, 0],\n",
    "                     [1/3, 1/3, 0, 0, 0],\n",
    "                     [2/3, -1/3, 1, 0, 0],\n",
    "                     [1, 1, -1, 1, 0],\n",
    "                     [1, 1/8, 3/8, 3/8, 1/8]]) \n",
    "\n",
    "def RK(y, t, Butcher_Table):\n",
    "    vector_y = np.array([y])\n",
    "    vector_t = np.array([t])\n",
    "    n = 0\n",
    "    s = len(Butcher_Table) - 1\n",
    "    B = Butcher_Table[1:, 1:]\n",
    "    alpha = Butcher_Table[1:, 0]\n",
    "\n",
    "    while n < N:\n",
    "        K = np.ones((s, len(y)))\n",
    "        K[0] = dt * F(vector_y[-1], vector_t[-1])\n",
    "        for i in range(1, s):\n",
    "            K[i] = dt * F(vector_y[-1] + np.dot(B[i-1], K), vector_t[-1] + alpha[i-1]*dt)\n",
    "        vector_y = np.vstack((vector_y, vector_y[-1] + np.dot(B[-1], K)))\n",
    "        vector_t = np.append(vector_t, t+dt)\n",
    "        n += 1\n",
    "        t += dt\n",
    "\n",
    "    return vector_y, vector_t\n"
   ]
  },
  {
   "cell_type": "code",
   "execution_count": 51,
   "metadata": {},
   "outputs": [],
   "source": [
    "ans_y_RK, ans_t_RK = RK(y_0, t_0, Original)\n",
    "ans_y_ABAM, ans_t_ABAM = AB_AM(4, y_0, t_0)"
   ]
  },
  {
   "cell_type": "code",
   "execution_count": 52,
   "metadata": {},
   "outputs": [
    {
     "name": "stdout",
     "output_type": "stream",
     "text": [
      "t =  0.01 :\t Y[ 1 ]^T =  [53.69878088 24.98789443]\n",
      "t =  0.02 :\t Y[ 2 ]^T =  [53.40187592 24.97537313]\n",
      "t =  0.03 :\t Y[ 3 ]^T =  [53.10991182 24.96285777]\n",
      "...\n",
      "t =  4.98 :\t Y[ 498 ]^T =  [25.53264639 19.45300156]\n",
      "t =  4.99 :\t Y[ 499 ]^T =  [25.52926854 19.44317325]\n",
      "t =  5.0 :\t Y[ 500 ]^T =  [25.52596482 19.43334988]\n"
     ]
    },
    {
     "data": {
      "image/png": "[encoded data removed]",
      "text/plain": [
       "<Figure size 640x480 with 1 Axes>"
      ]
     },
     "metadata": {},
     "output_type": "display_data"
    }
   ],
   "source": [
    "for i in range(k):\n",
    "    print(\"t = \", round(ans_t_RK[i+1], 3), \":\\t Y[\", i+1, \"]^T = \" , ans_y_RK[i+1])\n",
    "\n",
    "print(\"...\")\n",
    "\n",
    "for i in range(k):\n",
    "    print(\"t = \", round(ans_t_RK[-k+i], 3), \":\\t Y[\", N-k+i+1, \"]^T = \", ans_y_RK[-k+i])\n",
    "\n",
    "# Vẽ đồ thị\n",
    "ans_y_RK = np.transpose(ans_y_RK)\n",
    "\n",
    "# Muốn vẽ gì thì sửa ở đây\n",
    "#plt.plot(ans_t, ans_y[0] - np.exp(-1*ans_t), label = 'Sai số') # Vẽ y_0 theo t\n",
    "plt.plot(ans_t_RK, ans_y_RK[0], label = 'x') # Vẽ y_1 theo t\n",
    "plt.plot(ans_t_RK, ans_y_RK[1], label = 'y')\n",
    "plt.xlabel('X')\n",
    "plt.ylabel('Y')\n",
    "plt.legend()\n",
    "plt.title('😗~Siuuuuu ')\n",
    "plt.show()"
   ]
  },
  {
   "cell_type": "code",
   "execution_count": 53,
   "metadata": {},
   "outputs": [
    {
     "data": {
      "image/png": "[encoded data removed]",
      "text/plain": [
       "<Figure size 640x480 with 1 Axes>"
      ]
     },
     "metadata": {},
     "output_type": "display_data"
    }
   ],
   "source": [
    "plt.plot(ans_y_RK[0], ans_y_RK[1], label = 'y theo x')\n",
    "plt.xlabel('X')\n",
    "plt.ylabel('Y')\n",
    "plt.legend()\n",
    "plt.title('😗~Siuuuuu ')\n",
    "plt.show()"
   ]
  },
  {
   "cell_type": "code",
   "execution_count": 54,
   "metadata": {},
   "outputs": [
    {
     "data": {
      "image/png": "[encoded data removed]",
      "text/plain": [
       "<Figure size 640x480 with 1 Axes>"
      ]
     },
     "metadata": {},
     "output_type": "display_data"
    }
   ],
   "source": [
    "ans_y_ABAM = np.transpose(ans_y_ABAM)\n",
    "\n",
    "plt.plot(ans_t_RK, ans_y_RK[0]-ans_y_ABAM[0], label = '\\Delta x') # Vẽ y_1 theo t\n",
    "plt.plot(ans_t_RK, ans_y_RK[1]-ans_y_ABAM[1], label = '\\Delta y')\n",
    "plt.xlabel('X')\n",
    "plt.ylabel('Y')\n",
    "plt.legend()\n",
    "plt.title('😗~Siuuuuu ')\n",
    "plt.show()"
   ]
  }
 ],
 "metadata": {
  "kernelspec": {
   "display_name": "Python 3",
   "language": "python",
   "name": "python3"
  },
  "language_info": {
   "codemirror_mode": {
    "name": "ipython",
    "version": 3
   },
   "file_extension": ".py",
   "mimetype": "text/x-python",
   "name": "python",
   "nbconvert_exporter": "python",
   "pygments_lexer": "ipython3",
   "version": "3.10.5"
  }
 },
 "nbformat": 4,
 "nbformat_minor": 2
}

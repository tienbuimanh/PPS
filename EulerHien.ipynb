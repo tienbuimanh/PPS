{
 "cells": [
  {
   "cell_type": "markdown",
   "metadata": {},
   "source": [
    "Bài toán Cauchy:\n",
    "\n",
    "\\begin{align*}\n",
    "&Y = \\begin{pmatrix}\n",
    "y_1\\\\\n",
    "y_2\\\\\n",
    "\\vdots\\\\\n",
    "y_n\n",
    "\\end{pmatrix}\\\\\n",
    "&Y' = F(Y, t) = \\begin{pmatrix}\n",
    "f_1\\\\\n",
    "f_2\\\\\n",
    "\\vdots\\\\\n",
    "f_n\n",
    "\\end{pmatrix}\\\\\n",
    "&Y(t_0) = Y_0\n",
    "\\end{align*}\n",
    "\n",
    "Công thức Euler hiện \n",
    "\n",
    "$$\n",
    "Y_{n+1} = Y_n + h Y'(n) = Y_n + h F(Y_n, t_n)\n",
    "$$"
   ]
  },
  {
   "cell_type": "code",
   "execution_count": 1,
   "metadata": {},
   "outputs": [],
   "source": [
    "import numpy as np\n",
    "import math\n",
    "import matplotlib.pyplot as plt\n"
   ]
  },
  {
   "cell_type": "markdown",
   "metadata": {},
   "source": [
    "Input: Thời điểm ban đầu $t_0$, bước lưới $h = d_t$, số lượng bước nhảy $N$, hàm $F(Y, t) = Y'$, điều kiện ban đầu $Y_0$"
   ]
  },
  {
   "cell_type": "code",
   "execution_count": 2,
   "metadata": {},
   "outputs": [],
   "source": [
    "t_0 = 0\n",
    "dt = 0.01\n",
    "N = 1000\n",
    "\n",
    "#y_0 và F(Y, t) phải có cùng số phần tử\n",
    "\n",
    "# Điều kiện ban đầu\n",
    "y_0 = np.array([1])\n",
    "\n",
    "# F(Y, t)\n",
    "def F(y, t):\n",
    "    ans = np.copy(y)\n",
    "    #ans[0] = (t+2*y[0])/(t*t+2*y[0]*y[0])\n",
    "    ans[0] = -y[0]\n",
    "    return ans\n",
    "\n"
   ]
  },
  {
   "cell_type": "markdown",
   "metadata": {},
   "source": [
    "Số lượng xấp xỉ đầu và cuối muốn in ra"
   ]
  },
  {
   "cell_type": "code",
   "execution_count": 3,
   "metadata": {},
   "outputs": [],
   "source": [
    "k = 3"
   ]
  },
  {
   "cell_type": "markdown",
   "metadata": {},
   "source": [
    "Gói con giải bài toán Cauchy bằng Euler hiện, Kết quả trả ra 2 mảng\n",
    "$$[t_0, t_1, \\dots, t_n]$$\n",
    "$$[Y_0, Y_1, \\dots, Y_n]$$"
   ]
  },
  {
   "cell_type": "code",
   "execution_count": 4,
   "metadata": {},
   "outputs": [],
   "source": [
    "def Euler_Forward(y, t):\n",
    "    vector_y = np.array([y])\n",
    "    vector_t = np.array([t])\n",
    "    T = t + dt*N\n",
    "    n = 0\n",
    "    while n < N:\n",
    "        vector_y = np.vstack((vector_y, vector_y[-1] + dt*F(vector_y[-1], vector_t[-1])))\n",
    "        vector_t = np.append(vector_t, t+dt)\n",
    "        n += 1\n",
    "        t += dt\n",
    "    \n",
    "    return vector_y, vector_t"
   ]
  },
  {
   "cell_type": "markdown",
   "metadata": {},
   "source": [
    "Lôi Euler hiện ra vụt "
   ]
  },
  {
   "cell_type": "code",
   "execution_count": 5,
   "metadata": {},
   "outputs": [],
   "source": [
    "ans_y, ans_t = Euler_Forward(y_0, t_0)"
   ]
  },
  {
   "cell_type": "markdown",
   "metadata": {},
   "source": [
    "In kết quả ra rồi chém vào bài"
   ]
  },
  {
   "cell_type": "code",
   "execution_count": 6,
   "metadata": {},
   "outputs": [
    {
     "name": "stdout",
     "output_type": "stream",
     "text": [
      "t =  0.1 :\t Y[ 1 ]^T =  [1.1]\n",
      "t =  0.2 :\t Y[ 2 ]^T =  [1.19465021]\n",
      "t =  0.3 :\t Y[ 3 ]^T =  [1.28410985]\n",
      "...\n",
      "t =  2.8 :\t Y[ 28 ]^T =  [2.65855069]\n",
      "t =  2.9 :\t Y[ 29 ]^T =  [2.69548726]\n",
      "t =  3.0 :\t Y[ 30 ]^T =  [2.73162721]\n"
     ]
    },
    {
     "data": {
      "image/png": "[encoded data removed]",
      "text/plain": [
       "<Figure size 640x480 with 1 Axes>"
      ]
     },
     "metadata": {},
     "output_type": "display_data"
    }
   ],
   "source": [
    "for i in range(k):\n",
    "    print(\"t = \", round(ans_t[i+1], 3), \":\\t Y[\", i+1, \"]^T = \" , ans_y[i+1])\n",
    "\n",
    "print(\"...\")\n",
    "\n",
    "for i in range(k):\n",
    "    print(\"t = \", round(ans_t[-k+i], 3), \":\\t Y[\", N-k+i+1, \"]^T = \", ans_y[-k+i])\n",
    "\n",
    "# Vẽ đồ thị\n",
    "ans_y = np.transpose(ans_y)\n",
    "\n",
    "# Muốn vẽ gì thì sửa ở đây\n",
    "plt.plot(ans_t, ans_y[0] - np.exp(-ans_t), label = 'y = y(x)') # Vẽ y_0 theo t\n",
    "#plt.plot(ans_t, ans_y[0], label = 'siuuuuu') # Vẽ y_1 theo t\n",
    "\n",
    "plt.xlabel('X')\n",
    "plt.ylabel('Y')\n",
    "plt.legend()\n",
    "plt.title('😗~Siuuuuu ')\n",
    "plt.show()"
   ]
  }
 ],
 "metadata": {
  "kernelspec": {
   "display_name": "Python 3",
   "language": "python",
   "name": "python3"
  },
  "language_info": {
   "codemirror_mode": {
    "name": "ipython",
    "version": 3
   },
   "file_extension": ".py",
   "mimetype": "text/x-python",
   "name": "python",
   "nbconvert_exporter": "python",
   "pygments_lexer": "ipython3",
   "version": "3.10.5"
  }
 },
 "nbformat": 4,
 "nbformat_minor": 2
}

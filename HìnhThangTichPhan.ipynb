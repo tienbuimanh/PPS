{
 "cells": [
  {
   "cell_type": "code",
   "execution_count": 1,
   "metadata": {},
   "outputs": [],
   "source": [
    "import numpy as np\n",
    "import math\n",
    "import sys\n",
    "import matplotlib.pyplot as plt"
   ]
  },
  {
   "cell_type": "markdown",
   "metadata": {},
   "source": [
    "Đọc dữ liệu từ file"
   ]
  },
  {
   "cell_type": "code",
   "execution_count": null,
   "metadata": {},
   "outputs": [],
   "source": [
    "sys.stdin = open('.txt', 'r')\n",
    "first_line = sys.stdin.readline()\n",
    "sys.stdin.close()\n",
    "sys.stdin = open('.txt', 'r')\n",
    "temp = first_line\n",
    "temp = temp.split()\n",
    "X = []\n",
    "Y = []\n",
    "if len(temp) == 2:\n",
    "    for line in sys.stdin:\n",
    "        diem_noi_suy = np.array([float(toa_do) for toa_do in line.split()])\n",
    "        X.append(diem_noi_suy[0])\n",
    "        Y.append(diem_noi_suy[1])\n",
    "    X = np.array(X)\n",
    "    Y = np.array(Y)\n",
    "else:\n",
    "    x_line = sys.stdin.readline()\n",
    "    X = np.array([float(x_i) for x_i in x_line.split()])\n",
    "    y_line = sys.stdin.readline()\n",
    "    Y = np.array([float(y_i) for y_i in y_line.split()])\n",
    "\n",
    "sys.stdin.close()"
   ]
  },
  {
   "cell_type": "code",
   "execution_count": null,
   "metadata": {},
   "outputs": [],
   "source": []
  }
 ],
 "metadata": {
  "kernelspec": {
   "display_name": "Python 3",
   "language": "python",
   "name": "python3"
  },
  "language_info": {
   "codemirror_mode": {
    "name": "ipython",
    "version": 3
   },
   "file_extension": ".py",
   "mimetype": "text/x-python",
   "name": "python",
   "nbconvert_exporter": "python",
   "pygments_lexer": "ipython3",
   "version": "3.10.5"
  }
 },
 "nbformat": 4,
 "nbformat_minor": 2
}

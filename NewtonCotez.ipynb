{
 "cells": [
  {
   "cell_type": "markdown",
   "metadata": {},
   "source": [
    "Công thức Newton Cotez n:\n",
    "$$\n",
    "I = \\int_{x_0}^{x_n} f(x) dx = h\\left(a_0y_0 + a_1y_1 + ... + a_ny_n\\right)\n",
    "$$\n",
    "Chia bảng dữ liệu thành các đoạn con, mỗi đoạn n+1 phần tử\n",
    "$$\n",
    "[x_0, x_n], \\quad [x_n, x_{2n}], \\quad, [x_{2n}, x_{3n}], ...\n",
    "$$\n",
    "Tính tích phân trên các đoạn này, sau đó tính tổng các tích phân vừa tính được để ra tích phân trên toàn miền\n",
    "$$\n",
    "I = \\int_a^b f(x)dx = I_1 + I_2 + ...\n",
    "$$"
   ]
  },
  {
   "cell_type": "code",
   "execution_count": 23,
   "metadata": {},
   "outputs": [],
   "source": [
    "import numpy as np\n",
    "import math\n",
    "import sys\n",
    "import matplotlib.pyplot as plt"
   ]
  },
  {
   "cell_type": "code",
   "execution_count": 24,
   "metadata": {},
   "outputs": [],
   "source": [
    "def Horner_Nhan(a, c):\n",
    "    ans = np.zeros(len(a)+1)\n",
    "    P_n = np.zeros(len(a)+1)\n",
    "    P_n[:-1] = a\n",
    "    ans[0] = P_n[0]\n",
    "    for i in range(1, len(ans)):\n",
    "        ans[i] = P_n[i] - c*P_n[i-1]\n",
    "    return ans"
   ]
  },
  {
   "cell_type": "code",
   "execution_count": 25,
   "metadata": {},
   "outputs": [],
   "source": [
    "def Horner_Chia(a, c):\n",
    "    ans = np.zeros(len(a))\n",
    "    ans[0] = a[0]\n",
    "    for i in range(1,len(a)):\n",
    "        ans[i] = c*ans[i-1] + a[i]\n",
    "    P_c = ans[-1]\n",
    "    P_n = ans[:-1]\n",
    "    return P_n, P_c"
   ]
  },
  {
   "cell_type": "markdown",
   "metadata": {},
   "source": [
    "Gói con tính hệ số của Newton Cotez và ước lượng sai số\n",
    "\n",
    "Input: \n",
    "\n",
    "    n\n",
    "\n",
    "Output:\n",
    "\n",
    "    Hệ số cho Newton Cotez n, công thức sai số toàn cục"
   ]
  },
  {
   "cell_type": "code",
   "execution_count": 26,
   "metadata": {},
   "outputs": [],
   "source": [
    "def NewtonCotez(n):\n",
    "    omega = np.array([1])\n",
    "    HeSo = np.zeros(n+1)\n",
    "    v = np.zeros((n+1, 1))\n",
    "    P = np.eye(n+1)\n",
    "    for i in range(n+1):\n",
    "        omega = Horner_Nhan(omega, i)\n",
    "    for i in range(n+1):\n",
    "        P[i], _ = Horner_Chia(omega, i)\n",
    "    v[-1] = np.array([n])\n",
    "    for i in range(n+1):\n",
    "        P[:, i] /= n+1-i\n",
    "        if i>0:\n",
    "            v[n-i] = v[n-i+1]*n\n",
    "    for i in range(n+1):\n",
    "        temp = 1\n",
    "        for j in range(n+1):\n",
    "            if j!=i:\n",
    "                temp *= i-j\n",
    "        P[i] /= temp\n",
    "    HeSo = np.dot(P, v)\n",
    "\n",
    "    #Khai trien Taylor de uoc luong sai so\n",
    "\n",
    "    CapChinhXac = 1\n",
    "    Y = np.zeros(n+1)\n",
    "    I = n**2/2\n",
    "    for i in range(n+1):\n",
    "        Y[i] = i\n",
    "    M = I-np.dot(Y, HeSo)\n",
    "    while abs(M[0]) < 1e-10:\n",
    "        CapChinhXac += 1\n",
    "        I *= n/(CapChinhXac+1)\n",
    "        for i in range(n+1):\n",
    "            Y[i] *= i/(CapChinhXac)\n",
    "        M = I-np.dot(Y, HeSo)\n",
    "    return HeSo, CapChinhXac, abs(M[0])\n"
   ]
  },
  {
   "cell_type": "markdown",
   "metadata": {},
   "source": [
    "Tính hệ số và ước lượng sai số của Newton Cotez n"
   ]
  },
  {
   "cell_type": "code",
   "execution_count": 27,
   "metadata": {},
   "outputs": [
    {
     "name": "stdout",
     "output_type": "stream",
     "text": [
      "He so Newton Cotez:\n",
      "[[0.29285714]\n",
      " [1.54285714]\n",
      " [0.19285714]\n",
      " [1.94285714]\n",
      " [0.19285714]\n",
      " [1.54285714]\n",
      " [0.29285714]]\n",
      "Sai so: |I - I*| <= 0.006428571428354957 *M_ 8 *h^ 8\n"
     ]
    }
   ],
   "source": [
    "HeSo, CapChinhXac, M = NewtonCotez(6)\n",
    "print(\"He so Newton Cotez:\")\n",
    "print(HeSo)\n",
    "print(\"Sai so: |I - I*| <=\", abs(M), \"*M_\", CapChinhXac, \"*h^\", CapChinhXac)\n"
   ]
  },
  {
   "cell_type": "markdown",
   "metadata": {},
   "source": [
    "Gói con tính tích phân khi biết hàm dưới dạng bảng dữ liệu\n",
    "\n",
    "Input:\n",
    "    Bộ điểm $(x_i, y_i)$ (mỗi 1 điểm ghi trên 1 dòng, $x_i$ xếp theo thứ tự tăng dần)\n",
    "\n",
    "Output: \n",
    "    Tích phân trên đoạn $[x_0, x_N]$\n",
    "\n",
    "Ý tưởng:\n",
    "\n",
    "Tạo một bảng dữ liệu với bước lưới h, tính tích phân dựa trên bảng này\n",
    "\n",
    "Chia đôi h và tạo bảng mới, tiếp tục như vậy đến khi đạt được sai số mong muốn (đánh giá bằng công thức lưới phủ)\n",
    "\n"
   ]
  },
  {
   "cell_type": "code",
   "execution_count": 28,
   "metadata": {},
   "outputs": [],
   "source": [
    "def TinhTichPhan(x, y, n):\n",
    "    h = x[1] - x[0]\n",
    "    ans = 0\n",
    "    N = len(x)\n",
    "    if (N-1)%n != 0:\n",
    "        print(N-1, n)\n",
    "        print(\"Số đoạn chia không chia hết cho \", n)\n",
    "        return\n",
    "    else:\n",
    "        HeSoNC, _, _ = NewtonCotez(n)\n",
    "        i = 0\n",
    "        while i+n <= N-1:\n",
    "            u = np.zeros((1, n+1))\n",
    "            for j in range(n+1):\n",
    "                u[0, j] = y[i+j]\n",
    "            temp = np.dot(u, HeSoNC)\n",
    "            ans += temp[0]*h\n",
    "            i += n\n",
    "        return ans"
   ]
  },
  {
   "cell_type": "markdown",
   "metadata": {},
   "source": [
    "Tính tích phân của một hàm số cụ thể \n",
    "\n",
    "Input: \n",
    "    \n",
    "    Hàm số f(x), đoạn lấy tích phân [A, B], \n",
    "\n",
    "    sai số Epsilon,\n",
    "    \n",
    "    N (Công thức Newton Cotez muốn sử dụng)"
   ]
  },
  {
   "cell_type": "code",
   "execution_count": 29,
   "metadata": {},
   "outputs": [],
   "source": [
    "def f(x):\n",
    "    return 1/(1+x*x)\n",
    "A = 0\n",
    "B = 1\n",
    "Epsilon = 0.5*1e-7\n",
    "N = 1  # Công thức Newton Cotez muốn sử dụng"
   ]
  },
  {
   "cell_type": "code",
   "execution_count": 30,
   "metadata": {},
   "outputs": [],
   "source": [
    "def ChenDiemNoiSuy(x, y):\n",
    "    n = len(x)\n",
    "    i = 0\n",
    "    while i<n-1:\n",
    "        t = (x[i]+x[i+1])/2\n",
    "        x = np.insert(x, i+1, t)\n",
    "        y = np.insert(y, i+1, f(t))\n",
    "        i += 2\n",
    "        n += 1\n",
    "    return x, y\n"
   ]
  },
  {
   "cell_type": "code",
   "execution_count": 31,
   "metadata": {},
   "outputs": [
    {
     "name": "stdout",
     "output_type": "stream",
     "text": [
      "Sai số: |I - I*| <= 1/ 3 *|I_h - I_{2h}| <= Epsilon\n",
      "interation 0 \t h = 1.0 \tI_h = [0.75]  \tI_2h = 0 \t\tDelta I_h =  [0.75]\n",
      "interation 1 \t h = 0.5 \tI_h = [0.775]  \tI_2h = [0.75] \tDelta I_h =  [0.025]\n",
      "interation 2 \t h = 0.25 \tI_h = [0.78279412]  \tI_2h = [0.775] \tDelta I_h =  [0.00779412]\n",
      "interation 3 \t h = 0.125 \tI_h = [0.78474712]  \tI_2h = [0.78279412] \tDelta I_h =  [0.00195301]\n",
      "interation 4 \t h = 0.0625 \tI_h = [0.7852354]  \tI_2h = [0.78474712] \tDelta I_h =  [0.00048828]\n",
      "interation 5 \t h = 0.03125 \tI_h = [0.78535747]  \tI_2h = [0.7852354] \tDelta I_h =  [0.00012207]\n",
      "interation 6 \t h = 0.015625 \tI_h = [0.78538799]  \tI_2h = [0.78535747] \tDelta I_h =  [3.05175777e-05]\n",
      "interation 7 \t h = 0.0078125 \tI_h = [0.78539562]  \tI_2h = [0.78538799] \tDelta I_h =  [7.62939452e-06]\n",
      "interation 8 \t h = 0.00390625 \tI_h = [0.78539753]  \tI_2h = [0.78539562] \tDelta I_h =  [1.90734863e-06]\n",
      "interation 9 \t h = 0.001953125 \tI_h = [0.785398]  \tI_2h = [0.78539753] \tDelta I_h =  [4.76837159e-07]\n",
      "interation 10 \t h = 0.0009765625 \tI_h = [0.78539812]  \tI_2h = [0.785398] \tDelta I_h =  [1.19209289e-07]\n"
     ]
    }
   ],
   "source": [
    "def TichPhanHamChoTruoc(a, b, epsilon, n):\n",
    "    x = np.zeros(n+1)\n",
    "    y = np.zeros(n+1)\n",
    "    count = 0\n",
    "    I_h = 0\n",
    "    I_h2 = 0\n",
    "    x[0] = a \n",
    "    x[-1] = b \n",
    "    y[0] = f(x[0])\n",
    "    y[-1] = f(x[-1])\n",
    "    h = abs(b-a)/n\n",
    "    for i in range(1, n):\n",
    "        x[i] = x[0] + i*h\n",
    "        y[i] = f(x[i])\n",
    "    _, CapChinhXac, _ = NewtonCotez(n)\n",
    "    I_h2 = TinhTichPhan(x, y, n)\n",
    "    print(\"Sai số: |I - I*| <= 1/\", 2**CapChinhXac -1, \"*|I_h - I_{2h}| <= Epsilon\")\n",
    "    print(\"interation\", count, \"\\t h =\", h, \"\\tI_h =\", I_h2,\" \\tI_2h =\", I_h, \"\\t\\tDelta I_h = \", abs(I_h - I_h2))\n",
    "    while abs(I_h - I_h2) > (2**CapChinhXac-1)*Epsilon:\n",
    "        I_h = I_h2\n",
    "        x, y = ChenDiemNoiSuy(x, y)\n",
    "        I_h2 = TinhTichPhan(x, y, n)\n",
    "        count += 1\n",
    "        h /= 2\n",
    "        print(\"interation\", count, \"\\t h =\", h, \"\\tI_h =\", I_h2,\" \\tI_2h =\", I_h, \"\\tDelta I_h = \", abs(I_h - I_h2))\n",
    "    #return I_h2\n",
    "\n",
    "TichPhanHamChoTruoc(A, B, Epsilon, N)\n"
   ]
  },
  {
   "cell_type": "markdown",
   "metadata": {},
   "source": [
    "Tính tích phân của một hàm số khi biết các điểm rời rạc (Bảng dữ liệu)\n",
    "\n",
    "Input: \n",
    "\n",
    "Bộ điểm $(x_i, y_i)$ được ghi vào file Data.txt (mỗi điểm ghi trên 1 dòng, $x_i$ xếp theo thứ tự tăng dần)\n",
    "\n",
    "n (Công thức Newton Cotez muốn sử dụng)\n",
    "\n",
    "\n",
    "Output: \n",
    "\n",
    "Tích phân cần tính, sai số (nếu đánh giá đc)"
   ]
  },
  {
   "cell_type": "code",
   "execution_count": 32,
   "metadata": {},
   "outputs": [],
   "source": [
    "n = 2\n",
    "\n",
    "sys.stdin = open('Data.txt', 'r')\n",
    "first_line = sys.stdin.readline()\n",
    "sys.stdin.close()\n",
    "sys.stdin = open('Data.txt', 'r')\n",
    "temp = first_line\n",
    "temp = temp.split()\n",
    "X = []\n",
    "Y = []\n",
    "if len(temp) == 2:\n",
    "    for line in sys.stdin:\n",
    "        diem_noi_suy = np.array([float(toa_do) for toa_do in line.split()])\n",
    "        X.append(diem_noi_suy[0])\n",
    "        Y.append(diem_noi_suy[1])\n",
    "    X = np.array(X)\n",
    "    Y = np.array(Y)\n",
    "else:\n",
    "    x_line = sys.stdin.readline()\n",
    "    X = np.array([float(x_i) for x_i in x_line.split()])\n",
    "    y_line = sys.stdin.readline()\n",
    "    Y = np.array([float(y_i) for y_i in y_line.split()])\n",
    "\n",
    "sys.stdin.close()"
   ]
  },
  {
   "cell_type": "code",
   "execution_count": 33,
   "metadata": {},
   "outputs": [
    {
     "name": "stdout",
     "output_type": "stream",
     "text": [
      "I_h =  [-7.08643278]\n",
      "I_2h =  [-7.08667027]\n",
      "Sai so: |I_h - I| <= 1 / 3  * |I_h - I_2h|  =  [7.91633333e-05]\n"
     ]
    }
   ],
   "source": [
    "\n",
    "lenX = len(X)\n",
    "I_h = TinhTichPhan(X, Y, n)\n",
    "print(\"I_h = \", I_h)\n",
    "if ((lenX-1)/2)%n == 0:\n",
    "    X_2h = np.array([])\n",
    "    Y_2h = np.array([])\n",
    "    k = 0\n",
    "    while k <= lenX-1:\n",
    "        X_2h = np.append(X_2h, X[k])\n",
    "        Y_2h = np.append(Y_2h, Y[k])\n",
    "        k += 2\n",
    "    I_2h = TinhTichPhan(X_2h, Y_2h, n)\n",
    "    print(\"I_2h = \", I_2h)\n",
    "    print(\"Sai so: |I_h - I| <= 1 /\",2**n-1 ,\" * |I_h - I_2h|  = \", abs(I_h-I_2h)/(2**n -1))\n",
    "\n"
   ]
  }
 ],
 "metadata": {
  "kernelspec": {
   "display_name": "Python 3",
   "language": "python",
   "name": "python3"
  },
  "language_info": {
   "codemirror_mode": {
    "name": "ipython",
    "version": 3
   },
   "file_extension": ".py",
   "mimetype": "text/x-python",
   "name": "python",
   "nbconvert_exporter": "python",
   "pygments_lexer": "ipython3",
   "version": "3.10.5"
  }
 },
 "nbformat": 4,
 "nbformat_minor": 2
}
